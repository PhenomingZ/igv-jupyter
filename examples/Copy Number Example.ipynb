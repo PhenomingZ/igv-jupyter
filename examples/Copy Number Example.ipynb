{
 "cells": [
  {
   "cell_type": "markdown",
   "metadata": {},
   "source": [
    "# Copy Number Example"
   ]
  },
  {
   "cell_type": "code",
   "execution_count": 1,
   "metadata": {
    "collapsed": false
   },
   "outputs": [
    {
     "data": {
      "text/html": [
       "\n",
       "            <div id=\"igv_9768214\" class=\"igv-js\"></div>\n",
       "            <script type=\"text/javascript\">\n",
       "                require([location.origin + Jupyter.contents.base_url + \"nbextensions/igv/igv-jupyter.js\"], function() {\n",
       "                    var div = $(\"#igv_9768214.igv-js\")[0], options = {\"reference\": {\"id\": \"hg19\"}, \"showNavigation\": true, \"showRuler\": true, \"locus\": \"egfr\", \"flanking\": 1000, \"tracks\": [{\"format\": \"seg\", \"indexed\": false, \"url\": \"//data.broadinstitute.org/igvdata/test/igv-web/segmented_data_080520.seg.gz\", \"name\": \"Segmented CN\"}], \"double_click_delay\": 500, \"showKaryo\": false};\n",
       "                    igv.createBrowser(div, options);\n",
       "                });\n",
       "            </script>\n",
       "            "
      ],
      "text/plain": [
       "<igv.IGV at 0x10644a940>"
      ]
     },
     "execution_count": 1,
     "metadata": {},
     "output_type": "execute_result"
    }
   ],
   "source": [
    "# Define IGV.js instance\n",
    "from igv import IGV, Reference, Track, MAX_VALUE\n",
    "\n",
    "IGV(locus=\"egfr\", reference=Reference(id=\"hg19\"), tracks=[\n",
    "    Track(\n",
    "        name=\"Segmented CN\", \n",
    "        url=\"//data.broadinstitute.org/igvdata/test/igv-web/segmented_data_080520.seg.gz\",\n",
    "        format=\"seg\",\n",
    "        indexed=False)])"
   ]
  },
  {
   "cell_type": "code",
   "execution_count": null,
   "metadata": {
    "collapsed": true
   },
   "outputs": [],
   "source": []
  }
 ],
 "metadata": {
  "anaconda-cloud": {},
  "kernelspec": {
   "display_name": "Python [Root]",
   "language": "python",
   "name": "Python [Root]"
  },
  "language_info": {
   "codemirror_mode": {
    "name": "ipython",
    "version": 3
   },
   "file_extension": ".py",
   "mimetype": "text/x-python",
   "name": "python",
   "nbconvert_exporter": "python",
   "pygments_lexer": "ipython3",
   "version": "3.5.2"
  },
  "widgets": {
   "state": {},
   "version": "1.1.2"
  }
 },
 "nbformat": 4,
 "nbformat_minor": 0
}
