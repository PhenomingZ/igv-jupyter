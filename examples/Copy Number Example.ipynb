{
 "cells": [
  {
   "cell_type": "markdown",
   "metadata": {},
   "source": [
    "# Copy Number Example"
   ]
  },
  {
   "cell_type": "code",
   "execution_count": 2,
   "metadata": {
    "collapsed": false
   },
   "outputs": [
    {
     "data": {
      "text/html": [
       "\n",
       "            <div id=\"igv_9219336\" class=\"igv-js\"></div>\n",
       "            <script type=\"text/javascript\">\n",
       "                require([location.origin + Jupyter.contents.base_url + \"nbextensions/igv/igv-jupyter.js\"], function() {\n",
       "                    var div = $(\"#igv_9219336.igv-js\")[0], options = {\"showKaryo\": false, \"reference\": {\"id\": \"hg19\"}, \"double_click_delay\": 500, \"flanking\": 1000, \"locus\": \"egfr\", \"tracks\": [{\"indexed\": false, \"url\": \"https://data.broadinstitute.org/igvdata/test/igv-web/segmented_data_080520.seg.gz\", \"name\": \"Segmented CN\"}, {\"url\": \"https://s3.amazonaws.com/igv.broadinstitute.org/annotations/hg19/genes/gencode.v18.collapsed.bed\", \"displayMode\": \"EXPANDED\", \"order\": 1.7976931348623157e+308, \"name\": \"Genes\"}], \"showNavigation\": true, \"showRuler\": true};\n",
       "                    igv.createBrowser(div, options);\n",
       "                });\n",
       "            </script>\n",
       "            "
      ],
      "text/plain": [
       "<igv.IGV instance at 0x10b219680>"
      ]
     },
     "execution_count": 2,
     "metadata": {},
     "output_type": "execute_result"
    }
   ],
   "source": [
    "# Define IGV.js instance\n",
    "from igv import IGV, Reference, Track\n",
    "\n",
    "IGV(locus=\"egfr\", reference=Reference(id=\"hg19\"), tracks=[\n",
    "    Track(\n",
    "        name=\"Segmented CN\", \n",
    "        url=\"https://data.broadinstitute.org/igvdata/test/igv-web/segmented_data_080520.seg.gz\",\n",
    "        indexed=False),\n",
    "    Track(\n",
    "        name=\"Genes\", \n",
    "        url=\"https://s3.amazonaws.com/igv.broadinstitute.org/annotations/hg19/genes/gencode.v18.collapsed.bed\",\n",
    "        order=1.7976931348623157e+308,\n",
    "        display_mode=\"EXPANDED\")])"
   ]
  }
 ],
 "metadata": {
  "kernelspec": {
   "display_name": "Python 2",
   "language": "python",
   "name": "python2"
  },
  "language_info": {
   "codemirror_mode": {
    "name": "ipython",
    "version": 2
   },
   "file_extension": ".py",
   "mimetype": "text/x-python",
   "name": "python",
   "nbconvert_exporter": "python",
   "pygments_lexer": "ipython2",
   "version": "2.7.5"
  },
  "widgets": {
   "state": {},
   "version": "1.1.2"
  }
 },
 "nbformat": 4,
 "nbformat_minor": 0
}
