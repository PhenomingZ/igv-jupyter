{
 "cells": [
  {
   "cell_type": "markdown",
   "metadata": {},
   "source": [
    "# API Example"
   ]
  },
  {
   "cell_type": "code",
   "execution_count": 1,
   "metadata": {
    "collapsed": false,
    "scrolled": true
   },
   "outputs": [
    {
     "data": {
      "text/html": [
       "\n",
       "            <div id=\"igv_3016981\" class=\"igv-js\"></div>\n",
       "            <script type=\"text/javascript\">\n",
       "                require([location.origin + Jupyter.contents.base_url + \"nbextensions/igv/igv-jupyter.js\"], function() {\n",
       "                    var div = $(\"#igv_3016981.igv-js\")[0], options = {\"reference\": {\"cytobandURL\": \"//s3.amazonaws.com/igv.broadinstitute.org/genomes/seq/b37/b37_cytoband.txt\", \"fastaURL\": \"//s3.amazonaws.com/igv.broadinstitute.org/genomes/seq/1kg_v37/human_g1k_v37_decoy.fasta\", \"id\": \"hg19\"}, \"tracks\": [{\"displayMode\": \"EXPANDED\", \"indexUrl\": \"//s3.amazonaws.com/igv.broadinstitute.org/annotations/hg19/genes/gencode.v18.collapsed.bed.idx\", \"url\": \"//s3.amazonaws.com/igv.broadinstitute.org/annotations/hg19/genes/gencode.v18.collapsed.bed\", \"order\": 1.7976931348623157e+308, \"name\": \"Genes\", \"format\": \"bed\", \"visibilityWindow\": 10000000, \"type\": \"annotation\", \"sourceType\": \"file\"}], \"showKaryo\": false, \"locus\": \"8:128,751,826-128,751,865\", \"double_click_delay\": 500, \"flanking\": 1000, \"showRuler\": true, \"showNavigation\": true};\n",
       "                    igv.createBrowser(div, options);\n",
       "                });\n",
       "            </script>\n",
       "            "
      ],
      "text/plain": [
       "<igv.IGV at 0x10636e390>"
      ]
     },
     "execution_count": 1,
     "metadata": {},
     "output_type": "execute_result"
    }
   ],
   "source": [
    "from igv import IGV, Reference, Track, MAX_VALUE\n",
    "\n",
    "dugla_instance = IGV(\n",
    "    showKaryo=False,\n",
    "    showNavigation=True,\n",
    "    locus=\"8:128,751,826-128,751,865\", \n",
    "    reference=Reference(\n",
    "        id=\"hg19\",\n",
    "        fastaURL=\"//s3.amazonaws.com/igv.broadinstitute.org/genomes/seq/1kg_v37/human_g1k_v37_decoy.fasta\",\n",
    "        cytobandURL=\"//s3.amazonaws.com/igv.broadinstitute.org/genomes/seq/b37/b37_cytoband.txt\"\n",
    "    ),\n",
    "    flanking=1000,\n",
    "    tracks=[Track(\n",
    "    name=\"Genes\",\n",
    "    type=\"annotation\",\n",
    "    format=\"bed\",\n",
    "    sourceType=\"file\",\n",
    "    url=\"//s3.amazonaws.com/igv.broadinstitute.org/annotations/hg19/genes/gencode.v18.collapsed.bed\",\n",
    "    index_url=\"//s3.amazonaws.com/igv.broadinstitute.org/annotations/hg19/genes/gencode.v18.collapsed.bed.idx\", \n",
    "    visibilityWindow=10000000,\n",
    "    order=MAX_VALUE, \n",
    "    display_mode=\"EXPANDED\"\n",
    "        )])\n",
    "\n",
    "dugla_instance"
   ]
  },
  {
   "cell_type": "code",
   "execution_count": 4,
   "metadata": {
    "collapsed": false
   },
   "outputs": [
    {
     "name": "stdout",
     "output_type": "stream",
     "text": [
      "Loading track into IGV.js\n"
     ]
    },
    {
     "data": {
      "text/html": [
       "\n",
       "            <script type=\"text/javascript\">\n",
       "                require([location.origin + Jupyter.contents.base_url + \"nbextensions/igv/igv-jupyter.js\"], function() {\n",
       "                    igv.browser.loadTrack({\"url\": \"//localhost:8888/files/local.seg.gz\", \"format\": \"seg\", \"indexed\": false, \"name\": \"Local SEG File\"});\n",
       "                });\n",
       "            </script>\n",
       "            "
      ],
      "text/plain": [
       "<IPython.core.display.HTML object>"
      ]
     },
     "execution_count": 4,
     "metadata": {},
     "output_type": "execute_result"
    }
   ],
   "source": [
    "# An example of loading a local data file. The URL path format is as follows\n",
    "# //host:port-number/files/YOUR-PATH/YOUR-DATA-FILE\n",
    "# YOUR-PATH - relative to the directory in which you launch Jupyter.\n",
    "# Here I launched Jupyter in the 'examples' directory\n",
    "# and the date file local.seg.gz resides in the 'examples' directory\n",
    "local_seg_track = Track(\n",
    "    name=\"Local SEG File\", \n",
    "    url=\"//localhost:8888/files/local.seg.gz\",\n",
    "    format=\"seg\",\n",
    "    indexed=False)\n",
    "dugla_instance.load_track(local_seg_track)"
   ]
  },
  {
   "cell_type": "code",
   "execution_count": 5,
   "metadata": {
    "collapsed": false
   },
   "outputs": [
    {
     "name": "stdout",
     "output_type": "stream",
     "text": [
      "Loading track into IGV.js\n"
     ]
    },
    {
     "data": {
      "text/html": [
       "\n",
       "            <script type=\"text/javascript\">\n",
       "                require([location.origin + Jupyter.contents.base_url + \"nbextensions/igv/igv-jupyter.js\"], function() {\n",
       "                    igv.browser.loadTrack({\"name\": \"Local SEG File\", \"format\": \"seg\", \"url\": \"//localhost:8888/files/examples/data/local.seg.gz\", \"indexed\": false});\n",
       "                });\n",
       "            </script>\n",
       "            "
      ],
      "text/plain": [
       "<IPython.core.display.HTML object>"
      ]
     },
     "execution_count": 5,
     "metadata": {},
     "output_type": "execute_result"
    }
   ],
   "source": [
    "# An example of loading a local data file. The URL path format is as follows\n",
    "# //host:port-number/files/YOUR-PATH/YOUR-DATA-FILE\n",
    "# YOUR-PATH - relative to the directory in which you launch Jupyter.\n",
    "# Here I have launched Jupyter in the parent directory to 'examples'\n",
    "# and the date file local.seg.gz resides in the directory examples/data\n",
    "local_seg_track = Track(\n",
    "    name=\"Local SEG File\", \n",
    "    url=\"//localhost:8888/files/examples/data/local.seg.gz\",\n",
    "    format=\"seg\",\n",
    "    indexed=False)\n",
    "dugla_instance.load_track(local_seg_track)"
   ]
  },
  {
   "cell_type": "code",
   "execution_count": 3,
   "metadata": {
    "collapsed": false
   },
   "outputs": [
    {
     "name": "stdout",
     "output_type": "stream",
     "text": [
      "Loading track into IGV.js\n"
     ]
    },
    {
     "data": {
      "text/html": [
       "\n",
       "            <script type=\"text/javascript\">\n",
       "                require([location.origin + Jupyter.contents.base_url + \"nbextensions/igv/igv-jupyter.js\"], function() {\n",
       "                    igv.browser.loadTrack({\"indexed\": false, \"name\": \"Local SEG File\", \"format\": \"seg\", \"url\": \"//localhost:8888/files/IGVDevelopment/igv.js-jupyter/examples/data/local.seg.gz\"});\n",
       "                });\n",
       "            </script>\n",
       "            "
      ],
      "text/plain": [
       "<IPython.core.display.HTML object>"
      ]
     },
     "execution_count": 3,
     "metadata": {},
     "output_type": "execute_result"
    }
   ],
   "source": [
    "# An example of loading a local data file. The URL path format is as follows\n",
    "# //host:port-number/files/YOUR-PATH/YOUR-DATA-FILE\n",
    "# YOUR-PATH - relative to the directory in which you launch Jupyter.\n",
    "# Here I have launched Jupyter my root user directory. The path to the\n",
    "# data file local.seg.gz is IGVDevelopment/igv.js-jupyter/examples/data/local.seg.gz\n",
    "local_seg_track_0 = Track(\n",
    "    name=\"Local SEG File\", \n",
    "    url=\"//localhost:8888/files/IGVDevelopment/igv.js-jupyter/examples/data/local.seg.gz\",\n",
    "    format=\"seg\",\n",
    "    indexed=False)\n",
    "dugla_instance.load_track(local_seg_track_0)"
   ]
  }
 ],
 "metadata": {
  "anaconda-cloud": {},
  "kernelspec": {
   "display_name": "Python [Root]",
   "language": "python",
   "name": "Python [Root]"
  },
  "language_info": {
   "codemirror_mode": {
    "name": "ipython",
    "version": 3
   },
   "file_extension": ".py",
   "mimetype": "text/x-python",
   "name": "python",
   "nbconvert_exporter": "python",
   "pygments_lexer": "ipython3",
   "version": "3.5.2"
  },
  "widgets": {
   "state": {},
   "version": "1.1.2"
  }
 },
 "nbformat": 4,
 "nbformat_minor": 0
}
