{
 "cells": [
  {
   "cell_type": "code",
   "execution_count": 2,
   "metadata": {},
   "outputs": [],
   "source": [
    "import igv"
   ]
  },
  {
   "cell_type": "code",
   "execution_count": 3,
   "metadata": {},
   "outputs": [],
   "source": [
    "b = igv.Browser(\n",
    "    {\"reference\": {\n",
    "        \"id\": \"hg19\",\n",
    "        \"fastaURL\": \"files/data/hg19.snippet.fasta\",\n",
    "        \"indexed\": False,\n",
    "        \"cytobandURL\": \"files/data/cytoband.hg19.snippet.txt\",\n",
    "        \"tracks\": [\n",
    "            {\n",
    "                \"name\": \"RefGene\",\n",
    "                \"url\": \"files/data/refgene.hg19.snippet.bed\"\n",
    "            }\n",
    "        ]\n",
    "    }}\n",
    ")"
   ]
  },
  {
   "cell_type": "code",
   "execution_count": 4,
   "metadata": {},
   "outputs": [
    {
     "data": {
      "text/html": [
       "<div id=\"igv_2814557\"></div>"
      ],
      "text/plain": [
       "<IPython.core.display.HTML object>"
      ]
     },
     "metadata": {},
     "output_type": "display_data"
    }
   ],
   "source": [
    "b.show()"
   ]
  },
  {
   "cell_type": "code",
   "execution_count": 5,
   "metadata": {},
   "outputs": [
    {
     "data": {
      "text/plain": [
       "'OK'"
      ]
     },
     "execution_count": 5,
     "metadata": {},
     "output_type": "execute_result"
    }
   ],
   "source": [
    "def locuschange(data):\n",
    "    b.locus = data\n",
    "b.on(\"locuschange\", locuschange)"
   ]
  },
  {
   "cell_type": "code",
   "execution_count": 6,
   "metadata": {},
   "outputs": [
    {
     "data": {
      "text/plain": [
       "'OK'"
      ]
     },
     "execution_count": 6,
     "metadata": {},
     "output_type": "execute_result"
    }
   ],
   "source": [
    "b.zoom_in()"
   ]
  },
  {
   "cell_type": "code",
   "execution_count": 7,
   "metadata": {},
   "outputs": [
    {
     "data": {
      "text/plain": [
       "{u'chr': u'chr20',\n",
       " u'end': u'1,234,839',\n",
       " u'label': u'chr20:1,234,160-1,234,839',\n",
       " u'start': u'1,234,160'}"
      ]
     },
     "execution_count": 7,
     "metadata": {},
     "output_type": "execute_result"
    }
   ],
   "source": [
    "b.locus"
   ]
  },
  {
   "cell_type": "code",
   "execution_count": 8,
   "metadata": {},
   "outputs": [
    {
     "name": "stdout",
     "output_type": "stream",
     "text": [
      "Help on class Browser in module igv.browser:\n",
      "\n",
      "class Browser\n",
      " |  Methods defined here:\n",
      " |  \n",
      " |  __init__(self, config)\n",
      " |      Initialize an igv Browser object.\n",
      " |      \n",
      " |      :param: config - A dictionary specifying the browser configuration.  This will be converted to JSON and passed\n",
      " |              to igv.js  \"igv.createBrowser(config)\" as described in the igv.js documentation. See\n",
      " |              https://github.com/igvteam/igv.js/wiki/Browser-Configuration-2.0 for configuration options.\n",
      " |      :type dict\n",
      " |  \n",
      " |  display_svg(self)\n",
      " |      Display the current SVG image.  You must call get_svg() before calling this method.\n",
      " |  \n",
      " |  get_svg(self)\n",
      " |      Fetch the current IGV view as an SVG image.  To display the message call display_svg()\n",
      " |  \n",
      " |  load_track(self, track)\n",
      " |      Load a track.  Corresponds to the igv.js Browser function loadTrack (see https://github.com/igvteam/igv.js/wiki/Browser-Control-2.0#loadtrack).\n",
      " |      \n",
      " |      :param  track: A dictionary specifying track options.  See https://github.com/igvteam/igv.js/wiki/Tracks-2.0.\n",
      " |      :type dict\n",
      " |  \n",
      " |  on(self, eventName, cb)\n",
      " |      Subscribe to an igv.js event.\n",
      " |      \n",
      " |      :param Name of the event.  Currently only \"locuschange\" is supported.\n",
      " |      :type str\n",
      " |      :param cb - callback function taking a single argument.  For the locuschange event this argument will contain\n",
      " |              a dictionary of the form  {chr, start, end}\n",
      " |      :type function\n",
      " |  \n",
      " |  remove(self)\n",
      " |      Remove the igv.js Browser instance from the front end.  The server Browser object should be disposed of after calling\n",
      " |      this method.\n",
      " |  \n",
      " |  search(self, locus)\n",
      " |      Go to the specified locus.\n",
      " |      \n",
      " |      :param locus:  Chromosome location of the form  \"chromsosome:start-end\", or for supported genomes (hg38, hg19, and mm10) a gene name.\n",
      " |      :type str\n",
      " |  \n",
      " |  show(self)\n",
      " |      Create an igv.js \"Browser\" instance on the front end.\n",
      " |  \n",
      " |  zoom_in(self)\n",
      " |      Zoom in by a factor of 2\n",
      " |  \n",
      " |  zoom_out(self)\n",
      " |      Zoom out by a factor of 2\n",
      "\n"
     ]
    }
   ],
   "source": [
    "help(igv.Browser)"
   ]
  },
  {
   "cell_type": "code",
   "execution_count": null,
   "metadata": {},
   "outputs": [],
   "source": []
  }
 ],
 "metadata": {
  "kernelspec": {
   "display_name": "Python 2",
   "language": "python",
   "name": "python2"
  },
  "language_info": {
   "codemirror_mode": {
    "name": "ipython",
    "version": 2
   },
   "file_extension": ".py",
   "mimetype": "text/x-python",
   "name": "python",
   "nbconvert_exporter": "python",
   "pygments_lexer": "ipython2",
   "version": "2.7.15"
  }
 },
 "nbformat": 4,
 "nbformat_minor": 2
}
