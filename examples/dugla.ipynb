{
 "cells": [
  {
   "cell_type": "markdown",
   "metadata": {},
   "source": [
    "# API Example"
   ]
  },
  {
   "cell_type": "code",
   "execution_count": 1,
   "metadata": {
    "collapsed": false
   },
   "outputs": [
    {
     "data": {
      "text/html": [
       "\n",
       "            <div id=\"igv_5687224\" class=\"igv-js\"></div>\n",
       "            <script type=\"text/javascript\">\n",
       "                require([location.origin + Jupyter.contents.base_url + \"nbextensions/igv/igv-jupyter.js\"], function() {\n",
       "                    var div = $(\"#igv_5687224.igv-js\")[0], options = {\"showRuler\": true, \"flanking\": 1000, \"showNavigation\": true, \"reference\": {\"cytobandURL\": \"//s3.amazonaws.com/igv.broadinstitute.org/genomes/seq/b37/b37_cytoband.txt\", \"fastaURL\": \"//s3.amazonaws.com/igv.broadinstitute.org/genomes/seq/1kg_v37/human_g1k_v37_decoy.fasta\", \"id\": \"hg19\"}, \"locus\": \"8:128,751,826-128,751,865\", \"double_click_delay\": 500, \"showKaryo\": false, \"tracks\": [{\"format\": \"bed\", \"indexUrl\": \"//s3.amazonaws.com/igv.broadinstitute.org/annotations/hg19/genes/gencode.v18.collapsed.bed.idx\", \"visibilityWindow\": 10000000, \"url\": \"//s3.amazonaws.com/igv.broadinstitute.org/annotations/hg19/genes/gencode.v18.collapsed.bed\", \"sourceType\": \"file\", \"type\": \"annotation\", \"name\": \"Genes\", \"displayMode\": \"EXPANDED\", \"order\": 1.7976931348623157e+308}]};\n",
       "                    igv.createBrowser(div, options);\n",
       "                });\n",
       "            </script>\n",
       "            "
      ],
      "text/plain": [
       "<igv.IGV at 0x10658e278>"
      ]
     },
     "execution_count": 1,
     "metadata": {},
     "output_type": "execute_result"
    }
   ],
   "source": [
    "from igv import IGV, Reference, Track, MAX_VALUE\n",
    "\n",
    "dugla_instance = IGV(\n",
    "    showKaryo=False,\n",
    "    showNavigation=True,\n",
    "    locus=\"8:128,751,826-128,751,865\", \n",
    "    reference=Reference(\n",
    "        id=\"hg19\",\n",
    "        fastaURL=\"//s3.amazonaws.com/igv.broadinstitute.org/genomes/seq/1kg_v37/human_g1k_v37_decoy.fasta\",\n",
    "        cytobandURL=\"//s3.amazonaws.com/igv.broadinstitute.org/genomes/seq/b37/b37_cytoband.txt\"\n",
    "    ),\n",
    "    flanking=1000,\n",
    "    tracks=[Track(\n",
    "    name=\"Genes\",\n",
    "    type=\"annotation\",\n",
    "    format=\"bed\",\n",
    "    sourceType=\"file\",\n",
    "    url=\"//s3.amazonaws.com/igv.broadinstitute.org/annotations/hg19/genes/gencode.v18.collapsed.bed\",\n",
    "    index_url=\"//s3.amazonaws.com/igv.broadinstitute.org/annotations/hg19/genes/gencode.v18.collapsed.bed.idx\", \n",
    "    visibilityWindow=10000000,\n",
    "    order=MAX_VALUE, \n",
    "    display_mode=\"EXPANDED\"\n",
    "        )])\n",
    "\n",
    "dugla_instance"
   ]
  },
  {
   "cell_type": "code",
   "execution_count": 2,
   "metadata": {
    "collapsed": false
   },
   "outputs": [
    {
     "name": "stdout",
     "output_type": "stream",
     "text": [
      "Loading track into IGV.js\n"
     ]
    },
    {
     "data": {
      "text/html": [
       "\n",
       "            <script type=\"text/javascript\">\n",
       "                require([location.origin + Jupyter.contents.base_url + \"nbextensions/igv/igv-jupyter.js\"], function() {\n",
       "                    igv.browser.loadTrack({\"format\": \"bam\", \"url\": \"//hgdownload.cse.ucsc.edu/goldenPath/hg19/encodeDCC/wgEncodeOpenChromFaire/wgEncodeOpenChromFaireMrta2041AlnRep1.bam\", \"type\": \"alignment\", \"name\": \"Dugla BAM Track\"});\n",
       "                });\n",
       "            </script>\n",
       "            "
      ],
      "text/plain": [
       "<IPython.core.display.HTML object>"
      ]
     },
     "execution_count": 2,
     "metadata": {},
     "output_type": "execute_result"
    }
   ],
   "source": [
    "dugla_track = Track(\n",
    "    name=\"Dugla BAM Track\", \n",
    "    url=\"//hgdownload.cse.ucsc.edu/goldenPath/hg19/encodeDCC/wgEncodeOpenChromFaire/wgEncodeOpenChromFaireMrta2041AlnRep1.bam\",\n",
    "    format=\"bam\", \n",
    "    type=\"alignment\")\n",
    "dugla_instance.load_track(dugla_track)"
   ]
  },
  {
   "cell_type": "code",
   "execution_count": null,
   "metadata": {
    "collapsed": true
   },
   "outputs": [],
   "source": []
  }
 ],
 "metadata": {
  "anaconda-cloud": {},
  "kernelspec": {
   "display_name": "Python [Root]",
   "language": "python",
   "name": "Python [Root]"
  },
  "language_info": {
   "codemirror_mode": {
    "name": "ipython",
    "version": 3
   },
   "file_extension": ".py",
   "mimetype": "text/x-python",
   "name": "python",
   "nbconvert_exporter": "python",
   "pygments_lexer": "ipython3",
   "version": "3.5.2"
  },
  "widgets": {
   "state": {},
   "version": "1.1.2"
  }
 },
 "nbformat": 4,
 "nbformat_minor": 0
}
