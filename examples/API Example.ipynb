{
 "cells": [
  {
   "cell_type": "markdown",
   "metadata": {},
   "source": [
    "# API Example"
   ]
  },
  {
   "cell_type": "code",
   "execution_count": 1,
   "metadata": {
    "collapsed": false
   },
   "outputs": [
    {
     "data": {
      "text/html": [
       "\n",
       "            <div id=\"igv_433879\" class=\"igv-js\"></div>\n",
       "            <script type=\"text/javascript\">\n",
       "                require([location.origin + Jupyter.contents.base_url + \"nbextensions/igv/igv-jupyter.js\"], function() {\n",
       "                    var div = $(\"#igv_433879.igv-js\")[0], options = {\"reference\": {\"id\": \"hg19\"}, \"showNavigation\": true, \"tracks\": [{\"order\": 1.7976931348623157e+308, \"displayMode\": \"EXPANDED\", \"indexUrl\": \"//s3.amazonaws.com/igv.broadinstitute.org/annotations/hg19/genes/gencode.v18.collapsed.bed.idx\", \"name\": \"Genes\", \"url\": \"//s3.amazonaws.com/igv.broadinstitute.org/annotations/hg19/genes/gencode.v18.collapsed.bed\"}], \"showKaryo\": false, \"showRuler\": true, \"flanking\": 1000, \"double_click_delay\": 500, \"locus\": \"chr1:155,160,475-155,184,282\"};\n",
       "                    igv.createBrowser(div, options);\n",
       "                });\n",
       "            </script>\n",
       "            "
      ],
      "text/plain": [
       "<igv.IGV at 0x104f2bb38>"
      ]
     },
     "execution_count": 1,
     "metadata": {},
     "output_type": "execute_result"
    }
   ],
   "source": [
    "# Define IGV.js instance\n",
    "from igv import IGV, Reference, Track, MAX_VALUE\n",
    "\n",
    "igv_instance = IGV(locus=\"chr1:155,160,475-155,184,282\", reference=Reference(id=\"hg19\"), tracks=[Track(\n",
    "    name=\"Genes\", \n",
    "    url=\"//s3.amazonaws.com/igv.broadinstitute.org/annotations/hg19/genes/gencode.v18.collapsed.bed\",\n",
    "    index_url=\"//s3.amazonaws.com/igv.broadinstitute.org/annotations/hg19/genes/gencode.v18.collapsed.bed.idx\", \n",
    "    order=MAX_VALUE, \n",
    "    display_mode=\"EXPANDED\")])\n",
    "igv_instance"
   ]
  },
  {
   "cell_type": "code",
   "execution_count": null,
   "metadata": {
    "collapsed": false
   },
   "outputs": [],
   "source": [
    "# Zoom in by a factor of 2\n",
    "igv_instance.zoom_in()"
   ]
  },
  {
   "cell_type": "code",
   "execution_count": null,
   "metadata": {
    "collapsed": false
   },
   "outputs": [],
   "source": [
    "# Zoom out by a factor of 2\n",
    "igv_instance.zoom_out()"
   ]
  },
  {
   "cell_type": "code",
   "execution_count": null,
   "metadata": {
    "collapsed": false
   },
   "outputs": [],
   "source": [
    "# Load a new track: MRT_A204 FaireSeq Alignments rep 1\n",
    "mrt_a204_track = Track(\n",
    "    name=\"MRT_A204 FaireSeq Alignments rep 1\", \n",
    "    url=\"http://hgdownload.cse.ucsc.edu/goldenPath/hg19/encodeDCC/wgEncodeOpenChromFaire/wgEncodeOpenChromFaireMrta2041AlnRep1.bam\",\n",
    "    format=\"bam\", \n",
    "    type=\"alignment\")\n",
    "igv_instance.load_track(mrt_a204_track)"
   ]
  },
  {
   "cell_type": "code",
   "execution_count": null,
   "metadata": {
    "collapsed": false
   },
   "outputs": [],
   "source": [
    "# Load a new track: GBM Copy # (TCGA Broad GDAC)\n",
    "gbm_copy_track = Track(\n",
    "    name=\"GBM Copy # (TCGA Broad GDAC)\", \n",
    "    url=\"https://data.broadinstitute.org/igvdata/test/igv-web/segmented_data_080520.seg.gz\")\n",
    "igv_instance.load_track(gbm_copy_track)"
   ]
  },
  {
   "cell_type": "code",
   "execution_count": null,
   "metadata": {
    "collapsed": false
   },
   "outputs": [],
   "source": [
    "# Load a new track: dbSNP 137 (bed tabix)\n",
    "gbm_copy_track = Track(\n",
    "    name=\"dbSNP 137\", \n",
    "    format=\"bed\",\n",
    "    url=\"https://data.broadinstitute.org/igvdata/annotations/hg19/dbSnp/snp137.hg19.bed.gz\",\n",
    "    index_url=\"https://data.broadinstitute.org/igvdata/annotations/hg19/dbSnp/snp137.hg19.bed.gz.tbi\",\n",
    "    visibility_window=200000)\n",
    "igv_instance.load_track(gbm_copy_track)"
   ]
  },
  {
   "cell_type": "code",
   "execution_count": null,
   "metadata": {
    "collapsed": false
   },
   "outputs": [],
   "source": [
    "# Load a new track: Encode bigwig\n",
    "gbm_copy_track = Track(\n",
    "    name=\"Gm12878H3k4me3\", \n",
    "    url=\"http://hgdownload.cse.ucsc.edu/goldenPath/hg19/encodeDCC/wgEncodeBroadHistone/wgEncodeBroadHistoneGm12878H3k4me3StdSig.bigWig\")\n",
    "igv_instance.load_track(gbm_copy_track)"
   ]
  }
 ],
 "metadata": {
  "kernelspec": {
   "display_name": "Python 3",
   "language": "python",
   "name": "python3"
  },
  "language_info": {
   "codemirror_mode": {
    "name": "ipython",
    "version": 3
   },
   "file_extension": ".py",
   "mimetype": "text/x-python",
   "name": "python",
   "nbconvert_exporter": "python",
   "pygments_lexer": "ipython3",
   "version": "3.4.3"
  },
  "widgets": {
   "state": {},
   "version": "1.1.2"
  }
 },
 "nbformat": 4,
 "nbformat_minor": 0
}
