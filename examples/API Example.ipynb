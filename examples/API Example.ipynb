{
 "cells": [
  {
   "cell_type": "markdown",
   "metadata": {},
   "source": [
    "# API Example"
   ]
  },
  {
   "cell_type": "code",
   "execution_count": 3,
   "metadata": {
    "collapsed": false
   },
   "outputs": [
    {
     "data": {
      "text/html": [
       "\n",
       "            <div id=\"igv_4751813\" class=\"igv-js\"></div>\n",
       "            <script type=\"text/javascript\">\n",
       "                require([location.origin + Jupyter.contents.base_url + \"nbextensions/igv/igv-jupyter.js\"], function() {\n",
       "                    var div = $(\"#igv_4751813.igv-js\")[0], options = {\"double_click_delay\": 500, \"showNavigation\": true, \"flanking\": 1000, \"showRuler\": true, \"tracks\": [{\"name\": \"Genes\", \"url\": \"//s3.amazonaws.com/igv.broadinstitute.org/annotations/hg19/genes/gencode.v18.collapsed.bed\", \"format\": \"bed\", \"displayMode\": \"EXPANDED\", \"order\": 1.7976931348623157e+308, \"indexUrl\": \"//s3.amazonaws.com/igv.broadinstitute.org/annotations/hg19/genes/gencode.v18.collapsed.bed.idx\"}], \"showKaryo\": false, \"locus\": \"chr1:155,160,475-155,184,282\", \"reference\": {\"id\": \"hg19\"}};\n",
       "                    igv.createBrowser(div, options);\n",
       "                });\n",
       "            </script>\n",
       "            "
      ],
      "text/plain": [
       "<igv.IGV at 0x1064fd4a8>"
      ]
     },
     "execution_count": 3,
     "metadata": {},
     "output_type": "execute_result"
    }
   ],
   "source": [
    "# Define IGV.js instance\n",
    "from igv import IGV, Reference, Track, MAX_VALUE\n",
    "\n",
    "igv_instance = IGV(\n",
    "    locus=\"chr1:155,160,475-155,184,282\", \n",
    "    reference=Reference(id=\"hg19\"), \n",
    "    tracks=[\n",
    "    Track(\n",
    "    name=\"Genes\",\n",
    "    format=\"bed\",\n",
    "    url=\"//s3.amazonaws.com/igv.broadinstitute.org/annotations/hg19/genes/gencode.v18.collapsed.bed\",\n",
    "    index_url=\"//s3.amazonaws.com/igv.broadinstitute.org/annotations/hg19/genes/gencode.v18.collapsed.bed.idx\", \n",
    "    order=MAX_VALUE, \n",
    "    display_mode=\"EXPANDED\")\n",
    "    ]\n",
    ")\n",
    "igv_instance"
   ]
  },
  {
   "cell_type": "code",
   "execution_count": 4,
   "metadata": {
    "collapsed": false
   },
   "outputs": [
    {
     "name": "stdout",
     "output_type": "stream",
     "text": [
      "Zooming in with IGV.js\n"
     ]
    },
    {
     "data": {
      "text/html": [
       "\n",
       "            <script type=\"text/javascript\">\n",
       "                require([location.origin + Jupyter.contents.base_url + \"nbextensions/igv/igv-jupyter.js\"], function() {\n",
       "                    igv.browser.zoomIn();\n",
       "                });\n",
       "            </script>\n",
       "            "
      ],
      "text/plain": [
       "<IPython.core.display.HTML object>"
      ]
     },
     "execution_count": 4,
     "metadata": {},
     "output_type": "execute_result"
    }
   ],
   "source": [
    "# Zoom in by a factor of 2\n",
    "igv_instance.zoom_in()"
   ]
  },
  {
   "cell_type": "code",
   "execution_count": 5,
   "metadata": {
    "collapsed": false
   },
   "outputs": [
    {
     "name": "stdout",
     "output_type": "stream",
     "text": [
      "Zooming out with IGV.js\n"
     ]
    },
    {
     "data": {
      "text/html": [
       "\n",
       "            <script type=\"text/javascript\">\n",
       "                require([location.origin + Jupyter.contents.base_url + \"nbextensions/igv/igv-jupyter.js\"], function() {\n",
       "                    igv.browser.zoomOut();\n",
       "                });\n",
       "            </script>\n",
       "            "
      ],
      "text/plain": [
       "<IPython.core.display.HTML object>"
      ]
     },
     "execution_count": 5,
     "metadata": {},
     "output_type": "execute_result"
    }
   ],
   "source": [
    "# Zoom out by a factor of 2\n",
    "igv_instance.zoom_out()"
   ]
  },
  {
   "cell_type": "code",
   "execution_count": 8,
   "metadata": {
    "collapsed": false
   },
   "outputs": [
    {
     "name": "stdout",
     "output_type": "stream",
     "text": [
      "Loading track into IGV.js\n"
     ]
    },
    {
     "data": {
      "text/html": [
       "\n",
       "            <script type=\"text/javascript\">\n",
       "                require([location.origin + Jupyter.contents.base_url + \"nbextensions/igv/igv-jupyter.js\"], function() {\n",
       "                    igv.browser.loadTrack({\"format\": \"bam\", \"name\": \"MRT_A204 FaireSeq Alignments rep 1\", \"url\": \"//hgdownload.cse.ucsc.edu/goldenPath/hg19/encodeDCC/wgEncodeOpenChromFaire/wgEncodeOpenChromFaireMrta2041AlnRep1.bam\", \"type\": \"alignment\"});\n",
       "                });\n",
       "            </script>\n",
       "            "
      ],
      "text/plain": [
       "<IPython.core.display.HTML object>"
      ]
     },
     "execution_count": 8,
     "metadata": {},
     "output_type": "execute_result"
    }
   ],
   "source": [
    "# Load a new track: MRT_A204 FaireSeq Alignments rep 1\n",
    "mrt_a204_track = Track(\n",
    "    name=\"MRT_A204 FaireSeq Alignments rep 1\", \n",
    "    url=\"//hgdownload.cse.ucsc.edu/goldenPath/hg19/encodeDCC/wgEncodeOpenChromFaire/wgEncodeOpenChromFaireMrta2041AlnRep1.bam\",\n",
    "    format=\"bam\", \n",
    "    type=\"alignment\")\n",
    "igv_instance.load_track(mrt_a204_track)"
   ]
  },
  {
   "cell_type": "code",
   "execution_count": 9,
   "metadata": {
    "collapsed": false
   },
   "outputs": [
    {
     "name": "stdout",
     "output_type": "stream",
     "text": [
      "Loading track into IGV.js\n"
     ]
    },
    {
     "data": {
      "text/html": [
       "\n",
       "            <script type=\"text/javascript\">\n",
       "                require([location.origin + Jupyter.contents.base_url + \"nbextensions/igv/igv-jupyter.js\"], function() {\n",
       "                    igv.browser.loadTrack({\"format\": \"seg\", \"name\": \"GBM Copy # (TCGA Broad GDAC)\", \"url\": \"//data.broadinstitute.org/igvdata/test/igv-web/segmented_data_080520.seg.gz\"});\n",
       "                });\n",
       "            </script>\n",
       "            "
      ],
      "text/plain": [
       "<IPython.core.display.HTML object>"
      ]
     },
     "execution_count": 9,
     "metadata": {},
     "output_type": "execute_result"
    }
   ],
   "source": [
    "# Load a new track: GBM Copy # (TCGA Broad GDAC)\n",
    "gbm_copy_track = Track(\n",
    "    name=\"GBM Copy # (TCGA Broad GDAC)\",\n",
    "    format=\"seg\",\n",
    "    url=\"//data.broadinstitute.org/igvdata/test/igv-web/segmented_data_080520.seg.gz\")\n",
    "igv_instance.load_track(gbm_copy_track)"
   ]
  },
  {
   "cell_type": "code",
   "execution_count": 10,
   "metadata": {
    "collapsed": false
   },
   "outputs": [
    {
     "name": "stdout",
     "output_type": "stream",
     "text": [
      "Loading track into IGV.js\n"
     ]
    },
    {
     "data": {
      "text/html": [
       "\n",
       "            <script type=\"text/javascript\">\n",
       "                require([location.origin + Jupyter.contents.base_url + \"nbextensions/igv/igv-jupyter.js\"], function() {\n",
       "                    igv.browser.loadTrack({\"format\": \"bed\", \"name\": \"dbSNP 137\", \"indexUrl\": \"//data.broadinstitute.org/igvdata/annotations/hg19/dbSnp/snp137.hg19.bed.gz.tbi\", \"url\": \"//data.broadinstitute.org/igvdata/annotations/hg19/dbSnp/snp137.hg19.bed.gz\", \"visibilityWindow\": 200000});\n",
       "                });\n",
       "            </script>\n",
       "            "
      ],
      "text/plain": [
       "<IPython.core.display.HTML object>"
      ]
     },
     "execution_count": 10,
     "metadata": {},
     "output_type": "execute_result"
    }
   ],
   "source": [
    "# Load a new track: dbSNP 137 (bed tabix)\n",
    "dbsnp_track = Track(\n",
    "    name=\"dbSNP 137\", \n",
    "    format=\"bed\",\n",
    "    url=\"//data.broadinstitute.org/igvdata/annotations/hg19/dbSnp/snp137.hg19.bed.gz\",\n",
    "    index_url=\"//data.broadinstitute.org/igvdata/annotations/hg19/dbSnp/snp137.hg19.bed.gz.tbi\",\n",
    "    visibility_window=200000)\n",
    "igv_instance.load_track(dbsnp_track)"
   ]
  }
 ],
 "metadata": {
  "anaconda-cloud": {},
  "kernelspec": {
   "display_name": "Python [Root]",
   "language": "python",
   "name": "Python [Root]"
  },
  "language_info": {
   "codemirror_mode": {
    "name": "ipython",
    "version": 3
   },
   "file_extension": ".py",
   "mimetype": "text/x-python",
   "name": "python",
   "nbconvert_exporter": "python",
   "pygments_lexer": "ipython3",
   "version": "3.5.2"
  },
  "widgets": {
   "state": {},
   "version": "1.1.2"
  }
 },
 "nbformat": 4,
 "nbformat_minor": 0
}
