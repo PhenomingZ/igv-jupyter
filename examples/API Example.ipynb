{
 "cells": [
  {
   "cell_type": "markdown",
   "metadata": {},
   "source": [
    "# API Example"
   ]
  },
  {
   "cell_type": "code",
   "execution_count": 45,
   "metadata": {
    "collapsed": false
   },
   "outputs": [
    {
     "data": {
      "text/html": [
       "\n",
       "            <div id=\"igv_734517\" class=\"igv-js\"></div>\n",
       "            <script type=\"text/javascript\">\n",
       "                require([location.origin + Jupyter.contents.base_url + \"nbextensions/igv/igv-jupyter.js\"], function() {\n",
       "                    var div = $(\"#igv_734517.igv-js\")[0], options = {\"showKaryo\": false, \"showNavigation\": true, \"flanking\": 1000, \"locus\": \"chr1:155,160,475-155,184,282\", \"double_click_delay\": 500, \"reference\": {\"id\": \"hg19\"}, \"showRuler\": true, \"tracks\": [{\"url\": \"//s3.amazonaws.com/igv.broadinstitute.org/annotations/hg19/genes/gencode.v18.collapsed.bed\", \"indexUrl\": \"//s3.amazonaws.com/igv.broadinstitute.org/annotations/hg19/genes/gencode.v18.collapsed.bed.idx\", \"displayMode\": \"EXPANDED\", \"name\": \"Genes\", \"order\": 1.7976931348623157e+308}]};\n",
       "                    igv.createBrowser(div, options);\n",
       "                });\n",
       "            </script>\n",
       "            "
      ],
      "text/plain": [
       "<igv.IGV at 0x107541240>"
      ]
     },
     "execution_count": 45,
     "metadata": {},
     "output_type": "execute_result"
    }
   ],
   "source": [
    "# Define IGV.js instance\n",
    "from igv import IGV, Reference, Track\n",
    "\n",
    "igv_instance = IGV(locus=\"chr1:155,160,475-155,184,282\", reference=Reference(id=\"hg19\"), tracks=[Track(\n",
    "    name=\"Genes\", \n",
    "    url=\"//s3.amazonaws.com/igv.broadinstitute.org/annotations/hg19/genes/gencode.v18.collapsed.bed\",\n",
    "    index_url=\"//s3.amazonaws.com/igv.broadinstitute.org/annotations/hg19/genes/gencode.v18.collapsed.bed.idx\", \n",
    "    order=1.7976931348623157e+308, \n",
    "    display_mode=\"EXPANDED\")])\n",
    "igv_instance"
   ]
  },
  {
   "cell_type": "code",
   "execution_count": null,
   "metadata": {
    "collapsed": false
   },
   "outputs": [],
   "source": [
    "# Zoom in by a factor of 2\n",
    "igv_instance.zoom_in()"
   ]
  },
  {
   "cell_type": "code",
   "execution_count": null,
   "metadata": {
    "collapsed": false
   },
   "outputs": [],
   "source": [
    "# Zoom out by a factor of 2\n",
    "igv_instance.zoom_out()"
   ]
  },
  {
   "cell_type": "code",
   "execution_count": null,
   "metadata": {
    "collapsed": false
   },
   "outputs": [],
   "source": [
    "# Load a new track: MRT_A204 FaireSeq Alignments rep 1\n",
    "mrt_a204_track = Track(\n",
    "    name=\"MRT_A204 FaireSeq Alignments rep 1\", \n",
    "    url=\"http://hgdownload.cse.ucsc.edu/goldenPath/hg19/encodeDCC/wgEncodeOpenChromFaire/wgEncodeOpenChromFaireMrta2041AlnRep1.bam\",\n",
    "    format=\"bam\", \n",
    "    type=\"alignment\")\n",
    "igv_instance.load_track(mrt_a204_track)"
   ]
  },
  {
   "cell_type": "code",
   "execution_count": null,
   "metadata": {
    "collapsed": false
   },
   "outputs": [],
   "source": [
    "# Load a new track: GBM Copy # (TCGA Broad GDAC)\n",
    "gbm_copy_track = Track(\n",
    "    name=\"GBM Copy # (TCGA Broad GDAC)\", \n",
    "    url=\"https://data.broadinstitute.org/igvdata/test/igv-web/segmented_data_080520.seg.gz\")\n",
    "igv_instance.load_track(gbm_copy_track)"
   ]
  },
  {
   "cell_type": "code",
   "execution_count": null,
   "metadata": {
    "collapsed": false
   },
   "outputs": [],
   "source": [
    "# Load a new track: dbSNP 137 (bed tabix)\n",
    "gbm_copy_track = Track(\n",
    "    name=\"dbSNP 137\", \n",
    "    format=\"bed\",\n",
    "    url=\"https://data.broadinstitute.org/igvdata/annotations/hg19/dbSnp/snp137.hg19.bed.gz\",\n",
    "    index_url=\"https://data.broadinstitute.org/igvdata/annotations/hg19/dbSnp/snp137.hg19.bed.gz.tbi\",\n",
    "    visibility_window=200000)\n",
    "igv_instance.load_track(gbm_copy_track)"
   ]
  },
  {
   "cell_type": "code",
   "execution_count": null,
   "metadata": {
    "collapsed": false
   },
   "outputs": [],
   "source": [
    "# Load a new track: Encode bigwig\n",
    "gbm_copy_track = Track(\n",
    "    name=\"Gm12878H3k4me3\", \n",
    "    url=\"http://hgdownload.cse.ucsc.edu/goldenPath/hg19/encodeDCC/wgEncodeBroadHistone/wgEncodeBroadHistoneGm12878H3k4me3StdSig.bigWig\")\n",
    "igv_instance.load_track(gbm_copy_track)"
   ]
  }
 ],
 "metadata": {
  "kernelspec": {
   "display_name": "Python 3",
   "language": "python",
   "name": "python3"
  },
  "language_info": {
   "codemirror_mode": {
    "name": "ipython",
    "version": 3
   },
   "file_extension": ".py",
   "mimetype": "text/x-python",
   "name": "python",
   "nbconvert_exporter": "python",
   "pygments_lexer": "ipython3",
   "version": "3.4.3"
  },
  "widgets": {
   "state": {
    "0cc57f5a48da46ef8d98cea468608f5c": {
     "views": []
    },
    "14472e449d3f4868b6e4982a888b96dc": {
     "views": [
      {
       "cell_index": 3
      }
     ]
    },
    "150057a2bbad4263b65f0f8a95ceb059": {
     "views": []
    },
    "210f71f739c8403489eb0ae24ddeff8e": {
     "views": []
    },
    "26f7a393cc9043eda6b6d6cd8186395e": {
     "views": []
    },
    "275e7a0365d34b4faaa8781f286c0ecd": {
     "views": []
    },
    "4ad1222268bc49b1a11e1ba689be652a": {
     "views": []
    },
    "53d2e58b08c74279861b96f8f17b2460": {
     "views": []
    },
    "601ff53f96ce4031b6402d3dd7418c00": {
     "views": []
    },
    "611dbee79fa7443e96755c44ce4bf718": {
     "views": []
    },
    "7264ef2d01e445c5a2c93c181001de50": {
     "views": []
    },
    "7f2c164b450d4ffe97a08cd16f91bca8": {
     "views": []
    },
    "835d836e942c431ca7a7fb04846dfe96": {
     "views": []
    },
    "90a09b4f11fd4d7fb2f3a8703d182976": {
     "views": []
    },
    "90f98f628c6b4fc7b266eccc31cf5844": {
     "views": []
    },
    "9ae20be9b2ad4fee84c4383b20c72daa": {
     "views": []
    },
    "a1f03659f287469aabf7e5c6271070c4": {
     "views": []
    },
    "a3474f966d5f42e488d81d8755a02b5c": {
     "views": []
    },
    "a7a7441e576040bfae3868fafade4c56": {
     "views": []
    },
    "a896d2c7cebf499390070ef51052dd7d": {
     "views": []
    },
    "acafa0844127481882be31610114ae3a": {
     "views": []
    },
    "af3bf24422d541628b96273faa8f0b2a": {
     "views": []
    },
    "b3a9d80c4faa4c27be1d177ec7c9289e": {
     "views": []
    },
    "b785600e34034f55be1974042b45778a": {
     "views": []
    },
    "beb0b12a0371495b813d8095c655b648": {
     "views": []
    },
    "c2123f175c55402583cd5a2f86881a44": {
     "views": []
    },
    "c5f449d3df3f48599597e2dea4a5aedf": {
     "views": []
    },
    "c7be92bf44d140c9a3e40e86465d124b": {
     "views": []
    },
    "cee9132618014598aa832001fde617f5": {
     "views": []
    },
    "e3a02cf81f2049ffabb8caa0d22dbf87": {
     "views": []
    },
    "e81e71fee993439894587dff36f6e4d0": {
     "views": []
    },
    "f0e6096737ab4de99d295171ea8a7d21": {
     "views": []
    },
    "f102b393e08944f7921cc4697528be6c": {
     "views": []
    },
    "f72c47486da04331be39d30a94d4df65": {
     "views": []
    }
   },
   "version": "1.1.2"
  }
 },
 "nbformat": 4,
 "nbformat_minor": 0
}
